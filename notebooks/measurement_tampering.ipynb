{
 "cells": [
  {
   "cell_type": "markdown",
   "metadata": {},
   "source": [
    "# Goals\n",
    "- train predictor on training trusted and untrusted sets \n",
    "- use confidence as tampering score"
   ]
  },
  {
   "cell_type": "code",
   "execution_count": 1,
   "metadata": {},
   "outputs": [
    {
     "name": "stderr",
     "output_type": "stream",
     "text": [
      "/Users/oliverdaniels-koch/miniforge3/envs/cupbearer/lib/python3.10/site-packages/tqdm/auto.py:21: TqdmWarning: IProgress not found. Please update jupyter and ipywidgets. See https://ipywidgets.readthedocs.io/en/stable/user_install.html\n",
      "  from .autonotebook import tqdm as notebook_tqdm\n"
     ]
    }
   ],
   "source": [
    "from cupbearer import data, detectors, models, scripts, tasks, utils\n",
    "from torch.utils.data import DataLoader"
   ]
  },
  {
   "cell_type": "markdown",
   "metadata": {},
   "source": [
    "# Train Measurement Predictor"
   ]
  },
  {
   "cell_type": "code",
   "execution_count": 2,
   "metadata": {},
   "outputs": [],
   "source": [
    "import os\n",
    "# uncomment to set cuda visible devices\n",
    "# os.environ[\"CUDA_VISIBLE_DEVICES\"] = \"7\"\n",
    "# os.environ[\"CUDA_VISIBLE_DEVICES\"]"
   ]
  },
  {
   "cell_type": "code",
   "execution_count": 3,
   "metadata": {},
   "outputs": [
    {
     "name": "stderr",
     "output_type": "stream",
     "text": [
      "Special tokens have been added in the vocabulary, make sure the associated word embeddings are fine-tuned or trained.\n"
     ]
    }
   ],
   "source": [
    "transformer, tokenizer, emb_dim, max_len = models.transformers_hf.load_transformer(\n",
    "    \"pythia-14m\"\n",
    ")\n",
    "model = models.TamperingPredictionTransformer(\n",
    "        model=transformer,\n",
    "        embed_dim=emb_dim\n",
    "    )\n",
    "tokenizer = model.set_tokenizer(tokenizer)\n"
   ]
  },
  {
   "cell_type": "code",
   "execution_count": 4,
   "metadata": {},
   "outputs": [],
   "source": [
    "train_data = data.TamperingDataset(\"diamonds\", tokenizer=tokenizer, max_length=max_len, train=True, dataset_len=2)\n",
    "val_data = data.TamperingDataset(\"diamonds\", tokenizer=tokenizer, max_length=max_len, train=False, dataset_len=2)"
   ]
  },
  {
   "cell_type": "code",
   "execution_count": 5,
   "metadata": {},
   "outputs": [
    {
     "data": {
      "text/plain": [
       "[{'x': {'input_ids': tensor([[    0,     0,     0,  ...,   544, 35991,   187],\n",
       "           [    0,     0,     0,  ...,   544, 35991,   187]]),\n",
       "   'attention_mask': tensor([[0, 0, 0,  ..., 1, 1, 1],\n",
       "           [0, 0, 0,  ..., 1, 1, 1]]),\n",
       "   'sensor_inds': tensor([[2035, 2038, 2046],\n",
       "           [2035, 2038, 2046]])},\n",
       "  'y': tensor([[1., 1., 1., 1.],\n",
       "          [1., 1., 1., 1.]]),\n",
       "  'info': {'correct': tensor([1., 1.]), 'clean': tensor([0., 1.])}},\n",
       " {'x': {'input_ids': tensor([[    0,     0,     0,  ...,   544, 35991,   187],\n",
       "           [    0,     0,     0,  ...,   544, 35991,   187]]),\n",
       "   'attention_mask': tensor([[0, 0, 0,  ..., 1, 1, 1],\n",
       "           [0, 0, 0,  ..., 1, 1, 1]]),\n",
       "   'sensor_inds': tensor([[2035, 2038, 2046],\n",
       "           [2035, 2038, 2046]])},\n",
       "  'y': tensor([[0., 0., 0., 0.],\n",
       "          [1., 1., 0., 0.]]),\n",
       "  'info': {'correct': tensor([0., 0.]), 'clean': tensor([0., 0.])}},\n",
       " {'x': {'input_ids': tensor([[    0,     0,     0,  ...,   544, 35991,   187]]),\n",
       "   'attention_mask': tensor([[0, 0, 0,  ..., 1, 1, 1]]),\n",
       "   'sensor_inds': tensor([[2035, 2038, 2046]])},\n",
       "  'y': tensor([[0., 0., 0., 0.]]),\n",
       "  'info': {'correct': tensor([0.]), 'clean': tensor([1.])}}]"
      ]
     },
     "execution_count": 5,
     "metadata": {},
     "output_type": "execute_result"
    }
   ],
   "source": [
    "[batch for batch in DataLoader(train_data, batch_size=2, shuffle=True)]"
   ]
  },
  {
   "cell_type": "code",
   "execution_count": 9,
   "metadata": {},
   "outputs": [
    {
     "name": "stderr",
     "output_type": "stream",
     "text": [
      "GPU available: True (mps), used: True\n",
      "TPU available: False, using: 0 TPU cores\n",
      "IPU available: False, using: 0 IPUs\n",
      "HPU available: False, using: 0 HPUs\n",
      "\n",
      "  | Name           | Type                           | Params\n",
      "------------------------------------------------------------------\n",
      "0 | model          | TamperingPredictionTransformer | 7.6 M \n",
      "1 | train_accuracy | MultilabelAccuracy             | 0     \n",
      "2 | val_accuracy   | ModuleList                     | 0     \n",
      "3 | test_accuracy  | ModuleList                     | 0     \n",
      "------------------------------------------------------------------\n",
      "7.6 M     Trainable params\n",
      "0         Non-trainable params\n",
      "7.6 M     Total params\n",
      "30.517    Total estimated model params size (MB)\n"
     ]
    },
    {
     "name": "stdout",
     "output_type": "stream",
     "text": [
      "Sanity Checking DataLoader 0:   0%|          | 0/1 [00:00<?, ?it/s]"
     ]
    },
    {
     "name": "stderr",
     "output_type": "stream",
     "text": [
      "/Users/oliverdaniels-koch/miniforge3/envs/cupbearer/lib/python3.10/site-packages/lightning/pytorch/trainer/connectors/data_connector.py:441: The 'val_dataloader' does not have many workers which may be a bottleneck. Consider increasing the value of the `num_workers` argument` to `num_workers=7` in the `DataLoader` to improve performance.\n"
     ]
    },
    {
     "name": "stdout",
     "output_type": "stream",
     "text": [
      "                                                                           "
     ]
    },
    {
     "name": "stderr",
     "output_type": "stream",
     "text": [
      "/Users/oliverdaniels-koch/miniforge3/envs/cupbearer/lib/python3.10/site-packages/lightning/pytorch/trainer/connectors/data_connector.py:441: The 'train_dataloader' does not have many workers which may be a bottleneck. Consider increasing the value of the `num_workers` argument` to `num_workers=7` in the `DataLoader` to improve performance.\n",
      "/Users/oliverdaniels-koch/miniforge3/envs/cupbearer/lib/python3.10/site-packages/lightning/pytorch/loops/fit_loop.py:293: The number of training batches (1) is smaller than the logging interval Trainer(log_every_n_steps=50). Set a lower value for log_every_n_steps if you want to see logs for the training epoch.\n"
     ]
    },
    {
     "name": "stdout",
     "output_type": "stream",
     "text": [
      "Epoch 0: 100%|██████████| 1/1 [00:00<00:00,  1.28it/s, train/loss=6.070]"
     ]
    },
    {
     "name": "stderr",
     "output_type": "stream",
     "text": [
      "`Trainer.fit` stopped: `max_epochs=1` reached.\n"
     ]
    },
    {
     "name": "stdout",
     "output_type": "stream",
     "text": [
      "Epoch 0: 100%|██████████| 1/1 [00:00<00:00,  1.04it/s, train/loss=6.070]\n"
     ]
    },
    {
     "data": {
      "text/plain": [
       "{'train/loss': tensor(6.0702),\n",
       " 'train/acc_step': tensor(0.4500),\n",
       " 'val/loss': tensor(3.3786),\n",
       " 'val/acc_step': tensor(0.6000),\n",
       " 'val/acc_epoch': tensor(0.6000),\n",
       " 'train/acc_epoch': tensor(0.4500)}"
      ]
     },
     "execution_count": 9,
     "metadata": {},
     "output_type": "execute_result"
    }
   ],
   "source": [
    "train_loader = DataLoader(train_data, batch_size=32, shuffle=True)\n",
    "num_epochs = 1\n",
    "total_steps = num_epochs * len(train_loader)\n",
    "lr = 2e-5\n",
    "scripts.train_classifier( # NOTE: - paper uses 64 warmup steps, but seems hard\n",
    "    path=(classifier_path := utils.log_path(\"logs/tampering/predictor\")),\n",
    "    model=model,\n",
    "    train_loader=train_loader,\n",
    "    task=\"multilabel\",\n",
    "    num_labels=4,\n",
    "    val_loaders=DataLoader(val_data, batch_size=1024, shuffle=False),\n",
    "    lr=lr,\n",
    "    lr_scheduler_conf={\n",
    "        \"lr_warmup_steps\": 64,\n",
    "        \"total_steps\": total_steps,\n",
    "        \"lr\": lr\n",
    "    },\n",
    "    lr_scheduler_builder=scripts.lr_scheduler.CosineWarmUpBuilder,\n",
    "    max_epochs=num_epochs,\n",
    ")"
   ]
  },
  {
   "cell_type": "code",
   "execution_count": null,
   "metadata": {},
   "outputs": [],
   "source": []
  },
  {
   "cell_type": "code",
   "execution_count": null,
   "metadata": {},
   "outputs": [],
   "source": []
  }
 ],
 "metadata": {
  "kernelspec": {
   "display_name": "cupbearer",
   "language": "python",
   "name": "python3"
  },
  "language_info": {
   "codemirror_mode": {
    "name": "ipython",
    "version": 3
   },
   "file_extension": ".py",
   "mimetype": "text/x-python",
   "name": "python",
   "nbconvert_exporter": "python",
   "pygments_lexer": "ipython3",
   "version": "3.10.13"
  }
 },
 "nbformat": 4,
 "nbformat_minor": 2
}
