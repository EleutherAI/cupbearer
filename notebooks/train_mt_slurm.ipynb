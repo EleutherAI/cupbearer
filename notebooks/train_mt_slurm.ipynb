{
 "cells": [
  {
   "cell_type": "code",
   "execution_count": null,
   "metadata": {},
   "outputs": [],
   "source": [
    "import os\n",
    "import math\n",
    "\n",
    "import submitit\n",
    "from cupbearer import utils"
   ]
  },
  {
   "cell_type": "code",
   "execution_count": null,
   "metadata": {},
   "outputs": [],
   "source": [
    "os.chdir(f\"/nas/ucb/{os.environ['USER']}/cupbearer\")"
   ]
  },
  {
   "cell_type": "markdown",
   "metadata": {},
   "source": [
    "# Train Measurement Predictor"
   ]
  },
  {
   "cell_type": "code",
   "execution_count": null,
   "metadata": {},
   "outputs": [],
   "source": [
    "# TOOD: refactor such that scripts function can be run directly by submitit\n",
    "def train_classifier(log_path, lr=2e-5, warmup_steps=64, batch_size=16, accumulate_grad_batches=2, \n",
    "                     weight_decay=2e-2, num_epochs=1, precision=\"16-mixed\", \n",
    "                     loss_weights=[0.7, 0.3], model_name=\"pythia-14m\"):\n",
    "\n",
    "    from cupbearer import data, detectors, models, scripts, tasks, utils\n",
    "    import torch\n",
    "    from torch.utils.data import DataLoader\n",
    "    import torch.optim as optim\n",
    "    import transformers\n",
    "    from lightning.pytorch.callbacks import DeviceStatsMonitor # TODO: add\n",
    "\n",
    "    transformer, tokenizer, emb_dim, max_len = models.transformers_hf.load_transformer(\n",
    "       model_name\n",
    "    )\n",
    "    model = models.TamperingPredictionTransformer(\n",
    "            model=transformer,\n",
    "            embed_dim=emb_dim\n",
    "        )\n",
    "    tokenizer = model.set_tokenizer(tokenizer)\n",
    "\n",
    "    train_data = data.TamperingDataset(\"diamonds\", tokenizer=tokenizer, max_length=max_len, train=True)\n",
    "    val_data = data.TamperingDataset(\"diamonds\", tokenizer=tokenizer, max_length=max_len, train=False)\n",
    "    train_loader = DataLoader(train_data, batch_size=batch_size, shuffle=True)\n",
    "    val_loader = DataLoader(val_data, batch_size=1, shuffle=False)\n",
    "    \n",
    "    total_steps = num_epochs * len(train_loader)\n",
    "    \n",
    "    # loss function from measurement tampering paper # TODO: integrate this into library\n",
    "    loss_func = lambda logits, labels: \\\n",
    "        torch.nn.functional.binary_cross_entropy_with_logits(logits[:, :3], labels[:, :3]) * loss_weights[0] + \\\n",
    "        torch.nn.functional.binary_cross_entropy_with_logits(logits[:, 3], labels[:, 3]) * loss_weights[1]\n",
    "\n",
    "    # TODO: weighted loss average over individual measurements * .7 + loss on aggregate * .3\n",
    "    \n",
    "    return scripts.train_classifier( # NOTE: - paper uses 64 warmup steps, but seems hard\n",
    "        path=log_path,\n",
    "        model=model,\n",
    "        train_loader=train_loader,\n",
    "        task=\"multilabel\",\n",
    "        num_labels=4,\n",
    "        val_loaders=val_loader,\n",
    "        lr=lr,\n",
    "        optim_builder=optim.AdamW,\n",
    "        optim_conf={\"weight_decay\": weight_decay},\n",
    "        lr_scheduler_conf={\n",
    "            \"num_warmup_steps\": warmup_steps,\n",
    "            \"num_training_steps\": total_steps\n",
    "        },\n",
    "        lr_scheduler_builder=transformers.optimization.get_cosine_schedule_with_warmup,\n",
    "        max_epochs=num_epochs,\n",
    "        wandb=False,\n",
    "        callbacks=[DeviceStatsMonitor()],\n",
    "        precision=precision,\n",
    "        accumulate_grad_batches=accumulate_grad_batches,\n",
    "        loss_func=loss_func\n",
    "    )"
   ]
  },
  {
   "cell_type": "code",
   "execution_count": null,
   "metadata": {},
   "outputs": [],
   "source": [
    "# test distributed with smaller model\n",
    "exp_dir = os.path.abspath(utils.log_path(\"logs/tampering/predictor\"))\n",
    "job_dir = os.path.join(exp_dir, \"job\")\n",
    "os.makedirs(job_dir, exist_ok=True)\n",
    "\n",
    "# job hypers\n",
    "# gpus_per_node = 3\n",
    "gres=\"gpu:A100-SXM4-80GB:1\"\n",
    "num_nodes = 1\n",
    "mem_gb=80\n",
    "time_min=60 * 10\n",
    "qos = \"high\"\n",
    "\n",
    "# train hypers\n",
    "lr_base = 2e-5\n",
    "batch_size_base = 32\n",
    "precision=\"16-mixed\"\n",
    "\n",
    "grad_batch_size = 32\n",
    "lr = lr_base * math.sqrt(batch_size_base / grad_batch_size) # maintain lr batch_size ratio\n",
    "\n",
    "accumulate_grad_batches = 8\n",
    "batch_size = grad_batch_size // accumulate_grad_batches # apply gradient accumulation\n",
    "\n",
    "num_epochs = 5\n",
    "model_name = \"code-gen\""
   ]
  },
  {
   "cell_type": "code",
   "execution_count": null,
   "metadata": {},
   "outputs": [],
   "source": [
    "executor = submitit.AutoExecutor(folder=job_dir)\n",
    "#TODO: add gpu memory required\n",
    "executor.update_parameters(slurm_mem_gb=mem_gb,gres=gres, \n",
    "                           nodes=num_nodes, timeout_min=time_min, job_name=\"bash\", qos=qos)\n",
    "job = executor.submit(train_classifier, batch_size=batch_size,lr=lr, num_epochs=num_epochs,\n",
    "                      precision=precision, accumulate_grad_batches=accumulate_grad_batches, \n",
    "                      model_name=model_name, log_path=exp_dir)"
   ]
  },
  {
   "cell_type": "code",
   "execution_count": null,
   "metadata": {},
   "outputs": [],
   "source": [
    "exp_dir"
   ]
  },
  {
   "cell_type": "code",
   "execution_count": null,
   "metadata": {},
   "outputs": [],
   "source": [
    "job.job_id"
   ]
  },
  {
   "cell_type": "code",
   "execution_count": null,
   "metadata": {},
   "outputs": [],
   "source": [
    "out = job.result()"
   ]
  },
  {
   "cell_type": "markdown",
   "metadata": {},
   "source": [
    "# Eval Measurment Predictor"
   ]
  },
  {
   "cell_type": "code",
   "execution_count": null,
   "metadata": {},
   "outputs": [],
   "source": [
    "def eval_predictor(path, batch_size):\n",
    "    from cupbearer import models, scripts, data\n",
    "    transformer, tokenizer, emb_dim, max_len = models.transformers_hf.load_transformer(\n",
    "        \"code-gen\"\n",
    "    )\n",
    "    model = models.TamperingPredictionTransformer(\n",
    "            model=transformer,\n",
    "            embed_dim=emb_dim\n",
    "        )\n",
    "    tokenizer = model.set_tokenizer(tokenizer)\n",
    "\n",
    "    val_data = data.TamperingDataset(\"diamonds\", tokenizer=tokenizer, max_length=max_len, train=False)\n",
    "    untrusted_val_data = [el for el in val_data if not el[\"info\"][\"clean\"]]\n",
    "\n",
    "    scripts.eval_classifier(data=untrusted_val_data, model=model, path=path,\n",
    "                            batch_size=batch_size)"
   ]
  },
  {
   "cell_type": "code",
   "execution_count": null,
   "metadata": {},
   "outputs": [],
   "source": [
    "exp_dir = \"logs/tampering/predictor/2024-04-21_12-02-55\""
   ]
  },
  {
   "cell_type": "code",
   "execution_count": null,
   "metadata": {},
   "outputs": [],
   "source": [
    "eval_job_dir = os.path.join(exp_dir, \"eval_job\")\n",
    "executor = submitit.AutoExecutor(folder=eval_job_dir)\n",
    "executor.update_parameters(slurm_mem_gb=mem_gb,gres=gres, \n",
    "                           nodes=num_nodes, timeout_min=time_min, job_name=\"bash\", qos=qos)\n",
    "job = executor.submit(eval_predictor, path=exp_dir, batch_size=batch_size)"
   ]
  },
  {
   "cell_type": "code",
   "execution_count": null,
   "metadata": {},
   "outputs": [],
   "source": [
    "job.job_id"
   ]
  },
  {
   "cell_type": "markdown",
   "metadata": {},
   "source": [
    "# Train Probe on Ground Truth"
   ]
  },
  {
   "cell_type": "code",
   "execution_count": null,
   "metadata": {},
   "outputs": [],
   "source": [
    "# TODO: train probe on ground truth (corrects) data as skyline"
   ]
  }
 ],
 "metadata": {
  "kernelspec": {
   "display_name": "cupbearer",
   "language": "python",
   "name": "python3"
  },
  "language_info": {
   "codemirror_mode": {
    "name": "ipython",
    "version": 3
   },
   "file_extension": ".py",
   "mimetype": "text/x-python",
   "name": "python",
   "nbconvert_exporter": "python",
   "pygments_lexer": "ipython3",
   "version": "3.10.14"
  }
 },
 "nbformat": 4,
 "nbformat_minor": 2
}
