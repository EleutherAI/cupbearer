{
 "cells": [
  {
   "cell_type": "code",
   "execution_count": 1,
   "metadata": {},
   "outputs": [],
   "source": [
    "import os\n",
    "import math"
   ]
  },
  {
   "cell_type": "code",
   "execution_count": 12,
   "metadata": {},
   "outputs": [],
   "source": [
    "os.chdir(f\"/nas/ucb/{os.environ['USER']}/cupbearer\")"
   ]
  },
  {
   "cell_type": "markdown",
   "metadata": {},
   "source": [
    "# Train Measurement Predictor"
   ]
  },
  {
   "cell_type": "code",
   "execution_count": 3,
   "metadata": {},
   "outputs": [],
   "source": [
    "# TOOD: refactor such that scripts function can be run directly by submitit\n",
    "def train_classifier(log_path, lr=2e-5, warmup_steps=64, batch_size=16, accumulate_grad_batches=2, \n",
    "                     weight_decay=2e-2, num_epochs=1, precision=\"16-mixed\", model_name=\"pythia-14m\"):\n",
    "\n",
    "    from cupbearer import data, detectors, models, scripts, tasks, utils\n",
    "    from torch.utils.data import DataLoader\n",
    "    import torch.optim as optim\n",
    "    import transformers\n",
    "    from lightning.pytorch.callbacks import DeviceStatsMonitor # TODO: add\n",
    "\n",
    "    transformer, tokenizer, emb_dim, max_len = models.transformers_hf.load_transformer(\n",
    "       model_name\n",
    "    )\n",
    "    model = models.TamperingPredictionTransformer(\n",
    "            model=transformer,\n",
    "            embed_dim=emb_dim\n",
    "        )\n",
    "    tokenizer = model.set_tokenizer(tokenizer)\n",
    "\n",
    "    train_data = data.TamperingDataset(\"diamonds\", tokenizer=tokenizer, max_length=max_len, train=True)\n",
    "    val_data = data.TamperingDataset(\"diamonds\", tokenizer=tokenizer, max_length=max_len, train=False)\n",
    "    train_loader = DataLoader(train_data, batch_size=batch_size, shuffle=True)\n",
    "    val_loader = DataLoader(val_data, batch_size=1, shuffle=False)\n",
    "    \n",
    "    total_steps = num_epochs * len(train_loader)\n",
    "    \n",
    "    return scripts.train_classifier( # NOTE: - paper uses 64 warmup steps, but seems hard\n",
    "        path=log_path,\n",
    "        model=model,\n",
    "        train_loader=train_loader,\n",
    "        task=\"multilabel\",\n",
    "        num_labels=4,\n",
    "        val_loaders=val_loader,\n",
    "        lr=lr,\n",
    "        optim_builder=optim.AdamW,\n",
    "        optim_conf={\"weight_decay\": weight_decay},\n",
    "        lr_scheduler_conf={\n",
    "            \"num_warmup_steps\": warmup_steps,\n",
    "            \"num_training_steps\": total_steps\n",
    "        },\n",
    "        lr_scheduler_builder=transformers.optimization.get_cosine_schedule_with_warmup,\n",
    "        max_epochs=num_epochs,\n",
    "        wandb=False,\n",
    "        callbacks=[DeviceStatsMonitor()],\n",
    "        precision=precision,\n",
    "        accumulate_grad_batches=accumulate_grad_batches\n",
    "    )"
   ]
  },
  {
   "cell_type": "code",
   "execution_count": 4,
   "metadata": {},
   "outputs": [
    {
     "name": "stderr",
     "output_type": "stream",
     "text": [
      "/nas/ucb/oliveradk/miniforge3/envs/cupbearer/lib/python3.10/site-packages/tqdm/auto.py:21: TqdmWarning: IProgress not found. Please update jupyter and ipywidgets. See https://ipywidgets.readthedocs.io/en/stable/user_install.html\n",
      "  from .autonotebook import tqdm as notebook_tqdm\n"
     ]
    }
   ],
   "source": [
    "import submitit\n",
    "from cupbearer import utils"
   ]
  },
  {
   "cell_type": "code",
   "execution_count": 9,
   "metadata": {},
   "outputs": [
    {
     "name": "stderr",
     "output_type": "stream",
     "text": [
      "/nas/ucb/oliveradk/miniforge3/envs/cupbearer/lib/python3.10/site-packages/submitit/auto/auto.py:23: UserWarning: Setting 'gres' is deprecated. Use 'slurm_gres' instead.\n",
      "  warnings.warn(f\"Setting '{arg}' is deprecated. Use '{new_arg}' instead.\")\n",
      "/nas/ucb/oliveradk/miniforge3/envs/cupbearer/lib/python3.10/site-packages/submitit/auto/auto.py:23: UserWarning: Setting 'job_name' is deprecated. Use 'slurm_job_name' instead.\n",
      "  warnings.warn(f\"Setting '{arg}' is deprecated. Use '{new_arg}' instead.\")\n",
      "/nas/ucb/oliveradk/miniforge3/envs/cupbearer/lib/python3.10/site-packages/submitit/auto/auto.py:23: UserWarning: Setting 'qos' is deprecated. Use 'slurm_qos' instead.\n",
      "  warnings.warn(f\"Setting '{arg}' is deprecated. Use '{new_arg}' instead.\")\n"
     ]
    }
   ],
   "source": [
    "# test distributed with smaller model\n",
    "exp_dir = os.path.abspath(utils.log_path(\"logs/tampering/predictor\"))\n",
    "job_dir = os.path.join(exp_dir, \"job\")\n",
    "os.makedirs(job_dir, exist_ok=True)\n",
    "\n",
    "# job hypers\n",
    "# gpus_per_node = 3\n",
    "gres=\"gpu:A100-SXM4-80GB:1\"\n",
    "num_nodes = 1\n",
    "mem_gb=80\n",
    "time_min=60\n",
    "qos = \"high\"\n",
    "\n",
    "# train hypers\n",
    "lr_base = 2e-5\n",
    "batch_size_base = 32\n",
    "precision=\"16-mixed\"\n",
    "\n",
    "grad_batch_size = 32\n",
    "lr = lr_base * math.sqrt(batch_size_base / grad_batch_size) # maintain lr batch_size ratio\n",
    "\n",
    "accumulate_grad_batches = 8\n",
    "batch_size = grad_batch_size // accumulate_grad_batches # apply gradient accumulation\n",
    "\n",
    "num_epochs = 5\n",
    "model_name = \"code-gen\"\n",
    "\n",
    "executor = submitit.AutoExecutor(folder=job_dir)\n",
    "#TODO: add gpu memory required\n",
    "executor.update_parameters(slurm_mem_gb=mem_gb,gres=gres, \n",
    "                           nodes=num_nodes, timeout_min=time_min, job_name=\"bash\", qos=qos)\n",
    "job = executor.submit(train_classifier, batch_size=batch_size,lr=lr, num_epochs=num_epochs,\n",
    "                      precision=precision, accumulate_grad_batches=accumulate_grad_batches, \n",
    "                      model_name=model_name, log_path=exp_dir)"
   ]
  },
  {
   "cell_type": "code",
   "execution_count": 46,
   "metadata": {},
   "outputs": [
    {
     "data": {
      "text/plain": [
       "'/nas/ucb/oliveradk/cupbearer/logs/tampering/predictor/2024-04-14_15-53-35'"
      ]
     },
     "execution_count": 46,
     "metadata": {},
     "output_type": "execute_result"
    }
   ],
   "source": [
    "exp_dir"
   ]
  },
  {
   "cell_type": "code",
   "execution_count": 7,
   "metadata": {},
   "outputs": [
    {
     "data": {
      "text/plain": [
       "'194393'"
      ]
     },
     "execution_count": 7,
     "metadata": {},
     "output_type": "execute_result"
    }
   ],
   "source": [
    "job.job_id"
   ]
  },
  {
   "cell_type": "code",
   "execution_count": null,
   "metadata": {},
   "outputs": [],
   "source": [
    "out = job.result()"
   ]
  }
 ],
 "metadata": {
  "kernelspec": {
   "display_name": "cupbearer",
   "language": "python",
   "name": "python3"
  },
  "language_info": {
   "codemirror_mode": {
    "name": "ipython",
    "version": 3
   },
   "file_extension": ".py",
   "mimetype": "text/x-python",
   "name": "python",
   "nbconvert_exporter": "python",
   "pygments_lexer": "ipython3",
   "version": "3.10.14"
  }
 },
 "nbformat": 4,
 "nbformat_minor": 2
}
