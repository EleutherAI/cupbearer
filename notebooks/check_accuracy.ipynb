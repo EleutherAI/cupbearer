{
 "cells": [
  {
   "cell_type": "code",
   "execution_count": 1,
   "metadata": {},
   "outputs": [
    {
     "name": "stdout",
     "output_type": "stream",
     "text": [
      "Automatic pdb calling has been turned ON\n"
     ]
    },
    {
     "data": {
      "application/vnd.jupyter.widget-view+json": {
       "model_id": "b9e8ac5cf22242b088bd4332a31eeee7",
       "version_major": 2,
       "version_minor": 0
      },
      "text/plain": [
       "VBox(children=(Loading checkpoint shards:   0%|          | 0/4 [00:00<?, ?it/s],))"
      ]
     },
     "metadata": {},
     "output_type": "display_data"
    },
    {
     "name": "stderr",
     "output_type": "stream",
     "text": [
      "\u001b[32m2024-09-20 04:15:16.813\u001b[0m | \u001b[34m\u001b[1mDEBUG   \u001b[0m | \u001b[36mcupbearer.tasks.quirky_lm\u001b[0m:\u001b[36mquirky_lm\u001b[0m:\u001b[36m127\u001b[0m - \u001b[34m\u001b[1mAlice trusted: 487 samples\u001b[0m\n",
      "\u001b[32m2024-09-20 04:15:16.815\u001b[0m | \u001b[34m\u001b[1mDEBUG   \u001b[0m | \u001b[36mcupbearer.tasks.quirky_lm\u001b[0m:\u001b[36mquirky_lm\u001b[0m:\u001b[36m128\u001b[0m - \u001b[34m\u001b[1mAlice test: 506 samples\u001b[0m\n",
      "\u001b[32m2024-09-20 04:15:16.815\u001b[0m | \u001b[34m\u001b[1mDEBUG   \u001b[0m | \u001b[36mcupbearer.tasks.quirky_lm\u001b[0m:\u001b[36mquirky_lm\u001b[0m:\u001b[36m129\u001b[0m - \u001b[34m\u001b[1mBob test: 504 samples\u001b[0m\n",
      "\u001b[32m2024-09-20 04:15:16.816\u001b[0m | \u001b[34m\u001b[1mDEBUG   \u001b[0m | \u001b[36mcupbearer.tasks.quirky_lm\u001b[0m:\u001b[36mquirky_lm\u001b[0m:\u001b[36m131\u001b[0m - \u001b[34m\u001b[1mAlice untrusted: 487 samples\u001b[0m\n",
      "\u001b[32m2024-09-20 04:15:16.816\u001b[0m | \u001b[34m\u001b[1mDEBUG   \u001b[0m | \u001b[36mcupbearer.tasks.quirky_lm\u001b[0m:\u001b[36mquirky_lm\u001b[0m:\u001b[36m132\u001b[0m - \u001b[34m\u001b[1mBob untrusted: 974 samples\u001b[0m\n",
      "Evaluating:   0%|          | 0/144 [00:00<?, ?it/s]We detected that you are passing `past_key_values` as a tuple and this is deprecated and will be removed in v4.43. Please use an appropriate `Cache` class (https://huggingface.co/docs/transformers/v4.41.3/en/internal/generation_utils#transformers.Cache)\n",
      "                                                             "
     ]
    },
    {
     "name": "stdout",
     "output_type": "stream",
     "text": [
      "> \u001b[0;32m/mnt/ssd-1/david/cupbearer/src/cupbearer/scripts/measure_accuracy.py\u001b[0m(76)\u001b[0;36mmeasure_accuracy\u001b[0;34m()\u001b[0m\n",
      "\u001b[0;32m     74 \u001b[0;31m    \u001b[0mpdb\u001b[0m\u001b[0;34m.\u001b[0m\u001b[0mset_trace\u001b[0m\u001b[0;34m(\u001b[0m\u001b[0;34m)\u001b[0m\u001b[0;34m\u001b[0m\u001b[0;34m\u001b[0m\u001b[0m\n",
      "\u001b[0m\u001b[0;32m     75 \u001b[0;31m\u001b[0;34m\u001b[0m\u001b[0m\n",
      "\u001b[0m\u001b[0;32m---> 76 \u001b[0;31m    auc_roc = maybe_auc(\n",
      "\u001b[0m\u001b[0;32m     77 \u001b[0;31m        \u001b[0manswers\u001b[0m\u001b[0;34m,\u001b[0m\u001b[0;34m\u001b[0m\u001b[0;34m\u001b[0m\u001b[0m\n",
      "\u001b[0m\u001b[0;32m     78 \u001b[0;31m        \u001b[0mscores\u001b[0m\u001b[0;34m,\u001b[0m\u001b[0;34m\u001b[0m\u001b[0;34m\u001b[0m\u001b[0m\n",
      "\u001b[0m\n"
     ]
    }
   ],
   "source": [
    "import os\n",
    "os.environ[\"CUDA_VISIBLE_DEVICES\"] = \"2\"\n",
    "\n",
    "from cupbearer import tasks, scripts\n",
    "\n",
    "%pdb on\n",
    "\n",
    "# Initialize task\n",
    "dataset = \"population\"\n",
    "base_model = \"Meta-Llama-3.1-8B\"\n",
    "random_names = True\n",
    "\n",
    "task = tasks.quirky_lm(\n",
    "    base_model=base_model,\n",
    "    include_untrusted=True,\n",
    "    mixture=True,\n",
    "    standardize_template=True,\n",
    "    dataset=dataset,\n",
    "    random_names=random_names,\n",
    "    max_split_size=4000\n",
    ")\n",
    "\n",
    "# Run measure_accuracy\n",
    "batch_size = 7\n",
    "save_path = f\"logs/quirky/{dataset}-accuracy-{base_model}\"\n",
    "histogram_percentile = 95\n",
    "\n",
    "metrics = scripts.measure_accuracy(\n",
    "    task,\n",
    "    batch_size=batch_size,\n",
    "    pbar=True,\n",
    "    save_path=save_path,\n",
    "    histogram_percentile=histogram_percentile\n",
    ")\n",
    "\n",
    "print(metrics)"
   ]
  },
  {
   "cell_type": "code",
   "execution_count": null,
   "metadata": {},
   "outputs": [],
   "source": [
    "\\"
   ]
  }
 ],
 "metadata": {
  "kernelspec": {
   "display_name": "base",
   "language": "python",
   "name": "python3"
  },
  "language_info": {
   "codemirror_mode": {
    "name": "ipython",
    "version": 3
   },
   "file_extension": ".py",
   "mimetype": "text/x-python",
   "name": "python",
   "nbconvert_exporter": "python",
   "pygments_lexer": "ipython3",
   "version": "3.10.14"
  }
 },
 "nbformat": 4,
 "nbformat_minor": 2
}
